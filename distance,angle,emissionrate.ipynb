{
 "cells": [
  {
   "cell_type": "code",
   "execution_count": null,
   "metadata": {},
   "outputs": [],
   "source": [
    "import pandas as pd\n",
    "import numpy as np\n",
    "from os import listdir\n",
    "from os.path import isfile, join"
   ]
  },
  {
   "cell_type": "code",
   "execution_count": null,
   "metadata": {},
   "outputs": [],
   "source": [
    "fac_index = list(range(1,41))"
   ]
  },
  {
   "cell_type": "code",
   "execution_count": null,
   "metadata": {},
   "outputs": [],
   "source": [
    "for ind in fac_index: \n",
    "    mypath = r'D:\\AltFemp\\Facility\\fac'+ str(ind)\n",
    "    files = [f for f in listdir(mypath) if isfile(join(mypath, f))]"
   ]
  },
  {
   "cell_type": "code",
   "execution_count": null,
   "metadata": {},
   "outputs": [],
   "source": [
    "# load the center data "
   ]
  },
  {
   "cell_type": "code",
   "execution_count": null,
   "metadata": {},
   "outputs": [],
   "source": [
    "df = pd.read_excel(r'D:\\AltFemp\\raw_data\\cneter.xlsx')"
   ]
  },
  {
   "cell_type": "code",
   "execution_count": null,
   "metadata": {},
   "outputs": [],
   "source": [
    "def calsigma(ws,x):\n",
    "    # Assumptions: 1. Moderate Incoming Radiation\n",
    "    #              2. Open Country\n",
    "    # ws -> the wind speed \n",
    "    # x -> Downwind distance\n",
    "    x = np.float32(x)\n",
    "    if ws<2:\n",
    "        sigy = 0.22*x*(1+0.0001*x)**(-1/2)\n",
    "        sigz = 0.2*x\n",
    "    elif(2<= ws < 5):\n",
    "        sigy = 0.16*x*(1+0.0001*x)**(-1/2)\n",
    "        sigz = 0.12*x\n",
    "    elif(5<= ws < 6):\n",
    "        sigy = 0.11*x*(1+0.0001*x)**(-1/2)\n",
    "        sigz = 0.08*x*(1+0.0002*x)**(-1/2)\n",
    "    else:\n",
    "        sigy = 0.08*x*(1+0.0001*x)**(-1/2)\n",
    "        sigz = 0.06*x*(1+0.0015*x)**(-1/2)\n",
    "\n",
    "    return sigy,sigz"
   ]
  },
  {
   "cell_type": "code",
   "execution_count": null,
   "metadata": {},
   "outputs": [],
   "source": [
    "df.head()"
   ]
  },
  {
   "cell_type": "code",
   "execution_count": null,
   "metadata": {},
   "outputs": [],
   "source": [
    "for ind in fac_index: \n",
    "    # loading the mean center coordiates\n",
    "    print (ind)\n",
    "    center = df.iloc[ind-1]\n",
    "    x = center[0]\n",
    "    y = center[1]\n",
    "    # loading the facility \n",
    "    mypath = r'D:\\AltFemp\\Facility\\fac'+ str(ind)\n",
    "    files = [f for f in listdir(mypath) if isfile(join(mypath, f))]\n",
    "    i = 0 \n",
    "    for f in files:\n",
    "        # loading the dataset \n",
    "        fdf = pd.read_excel(mypath +'\\\\' + f)\n",
    "        # removed the lost signal data  \n",
    "        fdf = fdf.dropna()\n",
    "        # check the dimension of dataset\n",
    "        dim = fdf.shape\n",
    "        # assign the attribute\n",
    "        pt_x = fdf.x_utm\n",
    "        pt_y = fdf.y_utm \n",
    "        wspd = fdf.true_wspd\n",
    "        wdir = fdf.true_wdir\n",
    "        c = fdf.ch4_moleratio\n",
    "        # zip the attribute \n",
    "        data = list(zip(pt_x,pt_y,wspd,wdir,c))\n",
    "        # create empty list for saving new attributes \n",
    "        dist_list = []\n",
    "        Q_list =[]\n",
    "        Pang = []\n",
    "        for d in data:\n",
    "            # calculate the distance to the mean center\n",
    "            dist = ((d[0]-x)**2 + (d[1]-y)**2)**(1/2) \n",
    "            # calculatet the angle between the point and mean center \n",
    "            ang = np.arctan2((d[1]-y),(d[0]-x))*180/np.pi\n",
    "            # calculate the simmilaritry betwene wind direction and the angle with mean center \n",
    "            pang = np.absolute(d[3]/ang)\n",
    "            # calculate sigy and sigz \n",
    "            sigy,sigz = calsigma(d[2],dist)\n",
    "            # calculate the emission rate \n",
    "            Q = d[2]*np.pi*d[4]*sigy*sigz/np.exp(-1)\n",
    "            # save the calculated values into list \n",
    "            dist_list.append(dist)\n",
    "            Q_list.append(Q)\n",
    "            Pang.append(pang)\n",
    "        # add to the dataframe     \n",
    "        fdf['dist_to_source'] = dist_list\n",
    "        fdf['emission_rate'] = Q_list\n",
    "        fdf['wdir_prob'] = Pang\n",
    "\n",
    "        fdf.to_excel(r'D:\\AltFemp\\cal_fac\\%s'%f)\n",
    "        i += 1 \n",
    "        print (i)"
   ]
  },
  {
   "cell_type": "code",
   "execution_count": null,
   "metadata": {},
   "outputs": [],
   "source": []
  }
 ],
 "metadata": {
  "kernelspec": {
   "display_name": "Python 3",
   "language": "python",
   "name": "python3"
  },
  "language_info": {
   "codemirror_mode": {
    "name": "ipython",
    "version": 3
   },
   "file_extension": ".py",
   "mimetype": "text/x-python",
   "name": "python",
   "nbconvert_exporter": "python",
   "pygments_lexer": "ipython3",
   "version": "3.7.0"
  }
 },
 "nbformat": 4,
 "nbformat_minor": 2
}
