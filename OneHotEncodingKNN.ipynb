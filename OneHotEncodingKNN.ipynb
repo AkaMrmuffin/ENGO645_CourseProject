{
 "cells": [
  {
   "cell_type": "code",
   "execution_count": 8,
   "metadata": {},
   "outputs": [],
   "source": [
    "from sklearn.neighbors import KNeighborsClassifier\n",
    "import pandas as pd\n",
    "import numpy as np\n",
    "from os import listdir\n",
    "from os.path import isfile, join\n",
    "from sklearn.preprocessing import OneHotEncoder\n",
    "import ast\n",
    "from sklearn.decomposition import PCA\n",
    "from sklearn.model_selection import train_test_split\n",
    "from sklearn.metrics import accuracy_score\n",
    "from sklearn.model_selection import KFold"
   ]
  },
  {
   "cell_type": "code",
   "execution_count": 9,
   "metadata": {},
   "outputs": [],
   "source": [
    "# load the data\n",
    "df = pd.read_excel(r'D:\\AltFemp\\All_encoded.xlsx')\n",
    "o_label = np.array(df.OHEn)\n",
    "df = df.drop(columns =['OHEn'])\n",
    "\n",
    "# one Hot Encoding \n",
    "label_en = []\n",
    "for l in o_label: \n",
    "    x = ast.literal_eval(l)\n",
    "    label_en.append(x)\n",
    "\n",
    "enc = OneHotEncoder(handle_unknown='ignore')\n",
    "enc.fit(label_en)\n",
    "label = enc.transform(label_en).toarray()"
   ]
  },
  {
   "cell_type": "code",
   "execution_count": 10,
   "metadata": {},
   "outputs": [
    {
     "name": "stdout",
     "output_type": "stream",
     "text": [
      "k number: 1\n",
      "k number: 2\n",
      "k number: 3\n",
      "k number: 4\n",
      "k number: 5\n",
      "k number: 6\n",
      "k number: 7\n",
      "k number: 8\n",
      "k number: 9\n",
      "k number: 10\n"
     ]
    }
   ],
   "source": [
    "X = np.array(df)\n",
    "k_range = range (1,11)\n",
    "k_Accuracy =[]\n",
    "for k in k_range:\n",
    "    kf = KFold(n_splits=10)\n",
    "    kf.get_n_splits(df)\n",
    "    Accuracy= []\n",
    "    for train_index, test_index in kf.split(X,):\n",
    "        X_train, X_test = X[train_index],X[test_index]\n",
    "        y_train, y_test = label[train_index], label[test_index]\n",
    "        knn = KNeighborsClassifier(n_neighbors=k)\n",
    "        knn.fit(X_train,y_train)\n",
    "        pred = knn.predict(X_test)\n",
    "        a = accuracy_score(y_test,pred)\n",
    "        Accuracy.append(a)\n",
    "    print (\"k number: \" + str(k))\n",
    "    k_Accuracy.append(Accuracy)"
   ]
  },
  {
   "cell_type": "code",
   "execution_count": 11,
   "metadata": {},
   "outputs": [],
   "source": [
    "adf = pd.DataFrame(k_Accuracy)"
   ]
  },
  {
   "cell_type": "code",
   "execution_count": 12,
   "metadata": {},
   "outputs": [],
   "source": [
    "adf.to_excel(r'D:\\AltFemp\\raw_data\\accuracy assessment\\Knn.xlsx')"
   ]
  },
  {
   "cell_type": "code",
   "execution_count": 13,
   "metadata": {},
   "outputs": [
    {
     "data": {
      "text/plain": [
       "[0.053695217953236986,\n",
       " 0.29649864880742566,\n",
       " 0.23187639525320175,\n",
       " 0.03806838209376102,\n",
       " 0.31159675713782164,\n",
       " 0.07895664434261544,\n",
       " 0.15673833862060862,\n",
       " 0.4730936435201504,\n",
       " 0.1557487809176899,\n",
       " 0.050525821044591974]"
      ]
     },
     "execution_count": 13,
     "metadata": {},
     "output_type": "execute_result"
    }
   ],
   "source": [
    "Accuracy"
   ]
  },
  {
   "cell_type": "code",
   "execution_count": null,
   "metadata": {},
   "outputs": [],
   "source": []
  }
 ],
 "metadata": {
  "kernelspec": {
   "display_name": "Python 3",
   "language": "python",
   "name": "python3"
  },
  "language_info": {
   "codemirror_mode": {
    "name": "ipython",
    "version": 3
   },
   "file_extension": ".py",
   "mimetype": "text/x-python",
   "name": "python",
   "nbconvert_exporter": "python",
   "pygments_lexer": "ipython3",
   "version": "3.7.0"
  }
 },
 "nbformat": 4,
 "nbformat_minor": 2
}
